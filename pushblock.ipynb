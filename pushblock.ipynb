{
 "cells": [
  {
   "cell_type": "code",
   "execution_count": 1,
   "metadata": {},
   "outputs": [],
   "source": [
    "from mlagents.envs import UnityEnvironment\n",
    "from gym_unity.envs import UnityEnv\n",
    "import matplotlib.pyplot as plt\n",
    "import numpy as np\n"
   ]
  },
  {
   "cell_type": "code",
   "execution_count": null,
   "metadata": {},
   "outputs": [],
   "source": []
  },
  {
   "cell_type": "code",
   "execution_count": 2,
   "metadata": {},
   "outputs": [
    {
     "name": "stderr",
     "output_type": "stream",
     "text": [
      "INFO:mlagents.envs:\n",
      "'Academy' started successfully!\n",
      "Unity Academy name: Academy\n",
      "        Number of Brains: 1\n",
      "        Number of External Brains : 1\n",
      "        Reset Parameters :\n",
      "\t\t\n",
      "Unity brain name: VisualPushBlockBrain\n",
      "        Number of Visual Observations (per agent): 1\n",
      "        Vector Observation space size (per agent): 0\n",
      "        Number of stacked Vector Observation: 1\n",
      "        Vector Action space type: continuous\n",
      "        Vector Action space size (per agent): [3]\n",
      "        Vector Action descriptions: leftright_stride, leftright_rotate, forwardbackward\n",
      "INFO:gym_unity:1 agents within environment.\n"
     ]
    },
    {
     "name": "stdout",
     "output_type": "stream",
     "text": [
      "<UnityEnv instance>\n"
     ]
    },
    {
     "name": "stderr",
     "output_type": "stream",
     "text": [
      "INFO:mlagents.envs:\n",
      "'Academy' started successfully!\n",
      "Unity Academy name: Academy\n",
      "        Number of Brains: 1\n",
      "        Number of External Brains : 1\n",
      "        Reset Parameters :\n",
      "\t\t\n",
      "Unity brain name: VisualPushBlockBrain\n",
      "        Number of Visual Observations (per agent): 1\n",
      "        Vector Observation space size (per agent): 0\n",
      "        Number of stacked Vector Observation: 1\n",
      "        Vector Action space type: continuous\n",
      "        Vector Action space size (per agent): [3]\n",
      "        Vector Action descriptions: leftright_stride, leftright_rotate, forwardbackward\n",
      "INFO:gym_unity:1 agents within environment.\n"
     ]
    },
    {
     "name": "stdout",
     "output_type": "stream",
     "text": [
      "<UnityEnv instance>\n"
     ]
    }
   ],
   "source": [
    "# env_name = \"/Users/intuinno/codegit/PushBlock/app/mac/VisualPushBlockContinuous\"\n",
    "env_name = \"/home/intuinno/codegit/pushblock/app/linux/pushblock5.x86_64\"\n",
    "\n",
    "env = {}\n",
    "\n",
    "for i in range(2):\n",
    "    env[i] = UnityEnv(env_name, worker_id=i+2, use_visual=True)\n",
    "\n",
    "    print(str(env[i]))"
   ]
  },
  {
   "cell_type": "code",
   "execution_count": 10,
   "metadata": {},
   "outputs": [
    {
     "ename": "AttributeError",
     "evalue": "'dict' object has no attribute 'reset'",
     "output_type": "error",
     "traceback": [
      "\u001b[0;31m---------------------------------------------------------------------------\u001b[0m",
      "\u001b[0;31mAttributeError\u001b[0m                            Traceback (most recent call last)",
      "\u001b[0;32m<ipython-input-10-32f897a1b86d>\u001b[0m in \u001b[0;36m<module>\u001b[0;34m\u001b[0m\n\u001b[0;32m----> 1\u001b[0;31m \u001b[0minitial_observation\u001b[0m \u001b[0;34m=\u001b[0m \u001b[0menv\u001b[0m\u001b[0;34m.\u001b[0m\u001b[0mreset\u001b[0m\u001b[0;34m(\u001b[0m\u001b[0;34m)\u001b[0m\u001b[0;34m\u001b[0m\u001b[0m\n\u001b[0m\u001b[1;32m      2\u001b[0m \u001b[0;34m\u001b[0m\u001b[0m\n\u001b[1;32m      3\u001b[0m \u001b[0mprint\u001b[0m\u001b[0;34m(\u001b[0m\u001b[0menv\u001b[0m\u001b[0;34m.\u001b[0m\u001b[0mobservation_space\u001b[0m\u001b[0;34m.\u001b[0m\u001b[0mshape\u001b[0m\u001b[0;34m)\u001b[0m\u001b[0;34m\u001b[0m\u001b[0m\n\u001b[1;32m      4\u001b[0m \u001b[0;34m\u001b[0m\u001b[0m\n\u001b[1;32m      5\u001b[0m \u001b[0mplt\u001b[0m\u001b[0;34m.\u001b[0m\u001b[0mimshow\u001b[0m\u001b[0;34m(\u001b[0m\u001b[0minitial_observation\u001b[0m\u001b[0;34m[\u001b[0m\u001b[0;34m:\u001b[0m\u001b[0;34m,\u001b[0m\u001b[0;34m:\u001b[0m\u001b[0;34m,\u001b[0m\u001b[0;34m:\u001b[0m\u001b[0;34m]\u001b[0m\u001b[0;34m)\u001b[0m\u001b[0;34m\u001b[0m\u001b[0m\n",
      "\u001b[0;31mAttributeError\u001b[0m: 'dict' object has no attribute 'reset'"
     ]
    }
   ],
   "source": [
    "initial_observation = env.reset()\n",
    "\n",
    "print(env.observation_space.shape)\n",
    "\n",
    "plt.imshow(initial_observation[:,:,:])"
   ]
  },
  {
   "cell_type": "code",
   "execution_count": 26,
   "metadata": {},
   "outputs": [
    {
     "name": "stdout",
     "output_type": "stream",
     "text": [
      "-1.9999999949504854e-06\n",
      "0\n",
      "False\n",
      "-1.9999999949504854e-06\n",
      "1\n",
      "False\n"
     ]
    },
    {
     "data": {
      "image/png": "[encoded data removed]",
      "text/plain": [
       "<Figure size 432x288 with 1 Axes>"
      ]
     },
     "metadata": {
      "needs_background": "light"
     },
     "output_type": "display_data"
    }
   ],
   "source": [
    "for i in range(2):\n",
    "    rand = np.random.random_sample((3,1)) *2 - 1.0\n",
    "    observation, reward, done, info = env[i].step(rand)\n",
    "    plt.imshow(observation)\n",
    "    print(reward)\n",
    "    print(i)\n",
    "    print(done)"
   ]
  },
  {
   "cell_type": "code",
   "execution_count": 5,
   "metadata": {},
   "outputs": [
    {
     "name": "stdout",
     "output_type": "stream",
     "text": [
      "<mlagents.envs.brain.BrainInfo object at 0x7efe4e75ec18>\n"
     ]
    }
   ],
   "source": [
    "print(info['brain_info'])"
   ]
  },
  {
   "cell_type": "code",
   "execution_count": 27,
   "metadata": {},
   "outputs": [
    {
     "data": {
      "text/plain": [
       "[array([[[[0.24313725, 0.45490196, 0.79215686],\n",
       "          [0.24313725, 0.45490196, 0.79215686],\n",
       "          [0.24313725, 0.45490196, 0.79215686],\n",
       "          ...,\n",
       "          [0.24313725, 0.45490196, 0.79215686],\n",
       "          [0.24313725, 0.45490196, 0.79215686],\n",
       "          [0.24313725, 0.45490196, 0.79215686]],\n",
       " \n",
       "         [[0.24313725, 0.45490196, 0.79215686],\n",
       "          [0.24313725, 0.45490196, 0.79215686],\n",
       "          [0.24313725, 0.45490196, 0.79215686],\n",
       "          ...,\n",
       "          [0.24313725, 0.45490196, 0.79215686],\n",
       "          [0.24313725, 0.45490196, 0.79215686],\n",
       "          [0.24313725, 0.45490196, 0.79215686]],\n",
       " \n",
       "         [[0.24313725, 0.45490196, 0.79215686],\n",
       "          [0.24313725, 0.45490196, 0.79215686],\n",
       "          [0.24313725, 0.45490196, 0.79215686],\n",
       "          ...,\n",
       "          [0.24313725, 0.45490196, 0.79215686],\n",
       "          [0.24313725, 0.45490196, 0.79215686],\n",
       "          [0.24313725, 0.45490196, 0.79215686]],\n",
       " \n",
       "         ...,\n",
       " \n",
       "         [[0.81960784, 0.78431373, 0.68627451],\n",
       "          [0.81960784, 0.78431373, 0.68627451],\n",
       "          [0.81960784, 0.78431373, 0.68627451],\n",
       "          ...,\n",
       "          [0.82352941, 0.78823529, 0.69019608],\n",
       "          [0.82745098, 0.78823529, 0.69019608],\n",
       "          [0.82745098, 0.78823529, 0.69019608]],\n",
       " \n",
       "         [[0.81960784, 0.78039216, 0.68627451],\n",
       "          [0.81960784, 0.78039216, 0.68627451],\n",
       "          [0.81960784, 0.78039216, 0.68627451],\n",
       "          ...,\n",
       "          [0.82352941, 0.78823529, 0.69019608],\n",
       "          [0.82352941, 0.78823529, 0.69019608],\n",
       "          [0.82352941, 0.78823529, 0.69019608]],\n",
       " \n",
       "         [[0.81568627, 0.78039216, 0.68627451],\n",
       "          [0.81568627, 0.78039216, 0.68235294],\n",
       "          [0.81568627, 0.78039216, 0.68235294],\n",
       "          ...,\n",
       "          [0.82352941, 0.78431373, 0.68627451],\n",
       "          [0.82352941, 0.78823529, 0.68627451],\n",
       "          [0.82352941, 0.78823529, 0.69019608]]]])]"
      ]
     },
     "execution_count": 27,
     "metadata": {},
     "output_type": "execute_result"
    }
   ],
   "source": [
    "info['brain_info']."
   ]
  },
  {
   "cell_type": "code",
   "execution_count": 115,
   "metadata": {},
   "outputs": [],
   "source": [
    "env.close()"
   ]
  },
  {
   "cell_type": "code",
   "execution_count": 27,
   "metadata": {},
   "outputs": [],
   "source": [
    "for i in range(2):\n",
    "    env[i].close()"
   ]
  },
  {
   "cell_type": "code",
   "execution_count": null,
   "metadata": {},
   "outputs": [],
   "source": []
  }
 ],
 "metadata": {
  "kernelspec": {
   "display_name": "Python 3",
   "language": "python",
   "name": "python3"
  },
  "language_info": {
   "codemirror_mode": {
    "name": "ipython",
    "version": 3
   },
   "file_extension": ".py",
   "mimetype": "text/x-python",
   "name": "python",
   "nbconvert_exporter": "python",
   "pygments_lexer": "ipython3",
   "version": "3.6.6"
  }
 },
 "nbformat": 4,
 "nbformat_minor": 2
}
