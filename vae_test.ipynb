{
 "cells": [
  {
   "cell_type": "markdown",
   "metadata": {},
   "source": [
    "Test VAE model on random frame of random file in `record`"
   ]
  },
  {
   "cell_type": "code",
   "execution_count": 1,
   "metadata": {},
   "outputs": [],
   "source": [
    "import numpy as np\n",
    "import os\n",
    "import json\n",
    "import tensorflow as tf\n",
    "import random\n",
    "from vae.vae import ConvVAE, reset_graph"
   ]
  },
  {
   "cell_type": "code",
   "execution_count": 2,
   "metadata": {},
   "outputs": [],
   "source": [
    "import matplotlib.pyplot as plt\n",
    "np.set_printoptions(precision=4, edgeitems=6, linewidth=100, suppress=True)"
   ]
  },
  {
   "cell_type": "code",
   "execution_count": 3,
   "metadata": {},
   "outputs": [],
   "source": [
    "os.environ[\"CUDA_VISIBLE_DEVICES\"]=\"-1\" # disable GPU\n",
    "\n",
    "DATA_DIR = \"record\"\n",
    "model_path_name = \"vae\"\n",
    "\n",
    "z_size=32"
   ]
  },
  {
   "cell_type": "code",
   "execution_count": 4,
   "metadata": {},
   "outputs": [],
   "source": [
    "filelist = os.listdir(DATA_DIR)"
   ]
  },
  {
   "cell_type": "code",
   "execution_count": 5,
   "metadata": {},
   "outputs": [
    {
     "data": {
      "text/plain": [
       "5510"
      ]
     },
     "execution_count": 5,
     "metadata": {},
     "output_type": "execute_result"
    }
   ],
   "source": [
    "len(filelist)"
   ]
  },
  {
   "cell_type": "code",
   "execution_count": 6,
   "metadata": {},
   "outputs": [
    {
     "name": "stdout",
     "output_type": "stream",
     "text": [
      "INFO:tensorflow:Model using cpu.\n"
     ]
    }
   ],
   "source": [
    "vae = ConvVAE(z_size=z_size,\n",
    "              batch_size=1,\n",
    "              is_training=False,\n",
    "              reuse=False,\n",
    "              gpu_mode=False)\n",
    "\n",
    "vae.load_json(os.path.join(model_path_name, 'vae.json'))"
   ]
  },
  {
   "cell_type": "code",
   "execution_count": 31,
   "metadata": {},
   "outputs": [],
   "source": [
    "obs = np.load(os.path.join(DATA_DIR, random.choice(filelist)))[\"obs\"]\n",
    "obs = obs.astype(np.float32)/255.0"
   ]
  },
  {
   "cell_type": "code",
   "execution_count": 32,
   "metadata": {},
   "outputs": [],
   "source": [
    "obs = obs.astype(np.float32)"
   ]
  },
  {
   "cell_type": "code",
   "execution_count": 33,
   "metadata": {},
   "outputs": [
    {
     "data": {
      "text/plain": [
       "array([[[0.2431, 0.4549, 0.7922],\n",
       "        [0.2431, 0.4549, 0.7922],\n",
       "        [0.2431, 0.4549, 0.7922],\n",
       "        [0.2431, 0.4549, 0.7922],\n",
       "        [0.2431, 0.4549, 0.7922],\n",
       "        [0.2431, 0.4549, 0.7922],\n",
       "        ...,\n",
       "        [0.2431, 0.4549, 0.7922],\n",
       "        [0.2431, 0.4549, 0.7922],\n",
       "        [0.2431, 0.4549, 0.7922],\n",
       "        [0.2431, 0.4549, 0.7922],\n",
       "        [0.2431, 0.4549, 0.7922],\n",
       "        [0.2431, 0.4549, 0.7922]],\n",
       "\n",
       "       [[0.2431, 0.4549, 0.7922],\n",
       "        [0.2431, 0.4549, 0.7922],\n",
       "        [0.2431, 0.4549, 0.7922],\n",
       "        [0.2431, 0.4549, 0.7922],\n",
       "        [0.2431, 0.4549, 0.7922],\n",
       "        [0.2431, 0.4549, 0.7922],\n",
       "        ...,\n",
       "        [0.2431, 0.4549, 0.7922],\n",
       "        [0.2431, 0.4549, 0.7922],\n",
       "        [0.2431, 0.4549, 0.7922],\n",
       "        [0.2431, 0.4549, 0.7922],\n",
       "        [0.2431, 0.4549, 0.7922],\n",
       "        [0.2431, 0.4549, 0.7922]],\n",
       "\n",
       "       [[0.2431, 0.4549, 0.7922],\n",
       "        [0.2431, 0.4549, 0.7922],\n",
       "        [0.2431, 0.4549, 0.7922],\n",
       "        [0.2431, 0.4549, 0.7922],\n",
       "        [0.2431, 0.4549, 0.7922],\n",
       "        [0.2431, 0.4549, 0.7922],\n",
       "        ...,\n",
       "        [0.2431, 0.4549, 0.7922],\n",
       "        [0.2431, 0.4549, 0.7922],\n",
       "        [0.2431, 0.4549, 0.7922],\n",
       "        [0.2431, 0.4549, 0.7922],\n",
       "        [0.2431, 0.4549, 0.7922],\n",
       "        [0.2431, 0.4549, 0.7922]],\n",
       "\n",
       "       [[0.2431, 0.4549, 0.7922],\n",
       "        [0.2431, 0.4549, 0.7922],\n",
       "        [0.2431, 0.4549, 0.7922],\n",
       "        [0.2431, 0.4549, 0.7922],\n",
       "        [0.2431, 0.4549, 0.7922],\n",
       "        [0.2431, 0.4549, 0.7922],\n",
       "        ...,\n",
       "        [0.2431, 0.4549, 0.7922],\n",
       "        [0.2431, 0.4549, 0.7922],\n",
       "        [0.2431, 0.4549, 0.7922],\n",
       "        [0.2431, 0.4549, 0.7922],\n",
       "        [0.2431, 0.4549, 0.7922],\n",
       "        [0.2431, 0.4549, 0.7922]],\n",
       "\n",
       "       [[0.2431, 0.4549, 0.7922],\n",
       "        [0.2431, 0.4549, 0.7922],\n",
       "        [0.2431, 0.4549, 0.7922],\n",
       "        [0.2431, 0.4549, 0.7922],\n",
       "        [0.2431, 0.4549, 0.7922],\n",
       "        [0.2431, 0.4549, 0.7922],\n",
       "        ...,\n",
       "        [0.2431, 0.4549, 0.7922],\n",
       "        [0.2431, 0.4549, 0.7922],\n",
       "        [0.2431, 0.4549, 0.7922],\n",
       "        [0.2431, 0.4549, 0.7922],\n",
       "        [0.2431, 0.4549, 0.7922],\n",
       "        [0.2431, 0.4549, 0.7922]],\n",
       "\n",
       "       [[0.2431, 0.4549, 0.7922],\n",
       "        [0.2431, 0.4549, 0.7922],\n",
       "        [0.2431, 0.4549, 0.7922],\n",
       "        [0.2431, 0.4549, 0.7922],\n",
       "        [0.2431, 0.4549, 0.7922],\n",
       "        [0.2431, 0.4549, 0.7922],\n",
       "        ...,\n",
       "        [0.2431, 0.4549, 0.7922],\n",
       "        [0.2431, 0.4549, 0.7922],\n",
       "        [0.2431, 0.4549, 0.7922],\n",
       "        [0.2431, 0.4549, 0.7922],\n",
       "        [0.2431, 0.4549, 0.7922],\n",
       "        [0.2431, 0.4549, 0.7922]],\n",
       "\n",
       "       ...,\n",
       "\n",
       "       [[0.8549, 0.8157, 0.7098],\n",
       "        [0.8549, 0.8157, 0.7098],\n",
       "        [0.8549, 0.8157, 0.7098],\n",
       "        [0.851 , 0.8118, 0.7059],\n",
       "        [0.851 , 0.8118, 0.7059],\n",
       "        [0.851 , 0.8118, 0.7059],\n",
       "        ...,\n",
       "        [0.8471, 0.8078, 0.7059],\n",
       "        [0.8471, 0.8118, 0.7059],\n",
       "        [0.851 , 0.8118, 0.7059],\n",
       "        [0.851 , 0.8118, 0.7059],\n",
       "        [0.851 , 0.8118, 0.7059],\n",
       "        [0.851 , 0.8118, 0.7059]],\n",
       "\n",
       "       [[0.851 , 0.8118, 0.7059],\n",
       "        [0.851 , 0.8118, 0.7059],\n",
       "        [0.851 , 0.8118, 0.7059],\n",
       "        [0.8471, 0.8118, 0.7059],\n",
       "        [0.8471, 0.8078, 0.7059],\n",
       "        [0.8471, 0.8078, 0.7059],\n",
       "        ...,\n",
       "        [0.8431, 0.8078, 0.702 ],\n",
       "        [0.8471, 0.8078, 0.702 ],\n",
       "        [0.8471, 0.8078, 0.702 ],\n",
       "        [0.8471, 0.8078, 0.702 ],\n",
       "        [0.8471, 0.8078, 0.7059],\n",
       "        [0.8471, 0.8078, 0.7059]],\n",
       "\n",
       "       [[0.8471, 0.8078, 0.7059],\n",
       "        [0.8471, 0.8078, 0.702 ],\n",
       "        [0.8471, 0.8078, 0.702 ],\n",
       "        [0.8431, 0.8078, 0.702 ],\n",
       "        [0.8431, 0.8078, 0.702 ],\n",
       "        [0.8431, 0.8039, 0.702 ],\n",
       "        ...,\n",
       "        [0.8431, 0.8039, 0.702 ],\n",
       "        [0.8431, 0.8039, 0.702 ],\n",
       "        [0.8431, 0.8039, 0.702 ],\n",
       "        [0.8431, 0.8039, 0.702 ],\n",
       "        [0.8431, 0.8039, 0.702 ],\n",
       "        [0.8431, 0.8039, 0.702 ]],\n",
       "\n",
       "       [[0.8431, 0.8039, 0.702 ],\n",
       "        [0.8431, 0.8039, 0.702 ],\n",
       "        [0.8431, 0.8039, 0.702 ],\n",
       "        [0.8431, 0.8039, 0.702 ],\n",
       "        [0.8392, 0.8039, 0.698 ],\n",
       "        [0.8392, 0.8039, 0.698 ],\n",
       "        ...,\n",
       "        [0.8392, 0.8   , 0.698 ],\n",
       "        [0.8392, 0.8   , 0.698 ],\n",
       "        [0.8392, 0.8   , 0.698 ],\n",
       "        [0.8392, 0.8   , 0.698 ],\n",
       "        [0.8392, 0.8039, 0.698 ],\n",
       "        [0.8392, 0.8039, 0.698 ]],\n",
       "\n",
       "       [[0.8392, 0.8039, 0.698 ],\n",
       "        [0.8392, 0.8   , 0.698 ],\n",
       "        [0.8392, 0.8   , 0.698 ],\n",
       "        [0.8392, 0.8   , 0.698 ],\n",
       "        [0.8392, 0.8   , 0.698 ],\n",
       "        [0.8392, 0.8   , 0.698 ],\n",
       "        ...,\n",
       "        [0.8353, 0.7961, 0.698 ],\n",
       "        [0.8353, 0.8   , 0.698 ],\n",
       "        [0.8353, 0.8   , 0.698 ],\n",
       "        [0.8353, 0.8   , 0.698 ],\n",
       "        [0.8392, 0.8   , 0.698 ],\n",
       "        [0.8392, 0.8   , 0.698 ]],\n",
       "\n",
       "       [[0.8392, 0.8   , 0.698 ],\n",
       "        [0.8353, 0.8   , 0.698 ],\n",
       "        [0.8353, 0.8   , 0.698 ],\n",
       "        [0.8353, 0.8   , 0.698 ],\n",
       "        [0.8353, 0.7961, 0.698 ],\n",
       "        [0.8353, 0.7961, 0.6941],\n",
       "        ...,\n",
       "        [0.8314, 0.7961, 0.6941],\n",
       "        [0.8353, 0.7961, 0.6941],\n",
       "        [0.8353, 0.7961, 0.6941],\n",
       "        [0.8353, 0.7961, 0.6941],\n",
       "        [0.8353, 0.7961, 0.6941],\n",
       "        [0.8353, 0.7961, 0.698 ]]], dtype=float32)"
      ]
     },
     "execution_count": 33,
     "metadata": {},
     "output_type": "execute_result"
    }
   ],
   "source": [
    "obs[0]"
   ]
  },
  {
   "cell_type": "code",
   "execution_count": 34,
   "metadata": {},
   "outputs": [],
   "source": [
    "frame = random.choice(obs).reshape(1, 64, 64, 3)"
   ]
  },
  {
   "cell_type": "code",
   "execution_count": 35,
   "metadata": {},
   "outputs": [
    {
     "data": {
      "image/png": "[encoded data removed]",
      "text/plain": [
       "<Figure size 432x288 with 1 Axes>"
      ]
     },
     "metadata": {
      "needs_background": "light"
     },
     "output_type": "display_data"
    }
   ],
   "source": [
    "# show recorded frame that will be fed into the input of VAE\n",
    "plt.imshow(frame[0])\n",
    "plt.show()"
   ]
  },
  {
   "cell_type": "code",
   "execution_count": 36,
   "metadata": {},
   "outputs": [
    {
     "data": {
      "text/plain": [
       "0.6215779"
      ]
     },
     "execution_count": 36,
     "metadata": {},
     "output_type": "execute_result"
    }
   ],
   "source": [
    "frame[0].mean()"
   ]
  },
  {
   "cell_type": "code",
   "execution_count": 37,
   "metadata": {},
   "outputs": [
    {
     "name": "stdout",
     "output_type": "stream",
     "text": [
      "[-1.6064  0.7923 -0.29   -0.6791 -0.107  -0.0178  1.1349  1.3782  0.8023 -0.3896  1.2681  0.1545\n",
      "  0.3938  0.9133 -0.1133 -0.756  -0.6696 -0.7334  0.6038 -1.11   -0.4506 -1.8155 -0.0498  0.1046\n",
      " -1.8642  1.2955  0.1845  2.7789  1.3992  0.0656  1.0149  0.9596]\n"
     ]
    }
   ],
   "source": [
    "batch_z = vae.encode(frame)\n",
    "print(batch_z[0]) # print out sampled z\n",
    "reconstruct = vae.decode(batch_z)"
   ]
  },
  {
   "cell_type": "code",
   "execution_count": 38,
   "metadata": {},
   "outputs": [
    {
     "data": {
      "image/png": "[encoded data removed]",
      "text/plain": [
       "<Figure size 432x288 with 1 Axes>"
      ]
     },
     "metadata": {
      "needs_background": "light"
     },
     "output_type": "display_data"
    }
   ],
   "source": [
    "# show reconstruction\n",
    "plt.imshow(reconstruct[0])\n",
    "plt.show()"
   ]
  },
  {
   "cell_type": "code",
   "execution_count": null,
   "metadata": {},
   "outputs": [],
   "source": []
  }
 ],
 "metadata": {
  "kernelspec": {
   "display_name": "Python 3",
   "language": "python",
   "name": "python3"
  },
  "language_info": {
   "codemirror_mode": {
    "name": "ipython",
    "version": 3
   },
   "file_extension": ".py",
   "mimetype": "text/x-python",
   "name": "python",
   "nbconvert_exporter": "python",
   "pygments_lexer": "ipython3",
   "version": "3.6.6"
  }
 },
 "nbformat": 4,
 "nbformat_minor": 2
}
